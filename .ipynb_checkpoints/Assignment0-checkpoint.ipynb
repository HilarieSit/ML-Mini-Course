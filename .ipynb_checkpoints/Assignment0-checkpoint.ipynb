{
 "cells": [
  {
   "cell_type": "markdown",
   "metadata": {},
   "source": [
    "# Machine Learning"
   ]
  },
  {
   "cell_type": "markdown",
   "metadata": {},
   "source": [
    "The concept of machine learning (ML) was developed in the 1950's, but only recently became accessible to the more general public with the advancement of computer hardware. ML is a subset of artificial intelligence and is defined as “the science of getting computers to act without being explicitly programmed” (Stanford). There are three main types of machine learning algorithms - supervised learning (labeled data), unsupervised learning (unlabeled data) and reinforcement learning (motivated by rewards) algorithms. We will focus on supervised learning with artificial neural networks, a specific type of ML algorithm."
   ]
  },
  {
   "cell_type": "markdown",
   "metadata": {},
   "source": [
    "# Python review & general concepts"
   ]
  },
  {
   "cell_type": "markdown",
   "metadata": {},
   "source": [
    "NumPy and matplotlib are python libraries used in scientific computing. NumPy allows us to easily perform mathematical operations on arrays and matrices while matplotlib provides plotting capabilites similar to MATLAB. You can install these packages individually or download the Anadacona distribution, which includes most of the starting packages for data scientists. You will also need to install OpenCV, which is used for reading, saving and displaying images, and the OS module, which allows us to interface with the computer's operating system. Let's begin by reviewing several commands and concepts that are applicable in building machine learning algorithms. Write your code in the blank coding cells below, and hit control + enter to run. If a concept is unclear, feel free to email me at hs764@cornell.edu!"
   ]
  },
  {
   "cell_type": "code",
   "execution_count": 1,
   "metadata": {},
   "outputs": [],
   "source": [
    "import numpy as np\n",
    "from matplotlib import pyplot as plt\n",
    "import cv2\n",
    "import os"
   ]
  },
  {
   "cell_type": "markdown",
   "metadata": {},
   "source": [
    "### Inputs/features"
   ]
  },
  {
   "cell_type": "markdown",
   "metadata": {},
   "source": [
    "Run to download the data below. Inputs, also commonly called features, of machine learning algorithms can range from numerical values to images to strings, depending on the type of problem and selected algorithm. For example, recurrent neural networks used in natural language processing typically require inputs of strings while convolutional neural networks use images. The data below will be a set of five images."
   ]
  },
  {
   "cell_type": "code",
   "execution_count": 2,
   "metadata": {},
   "outputs": [],
   "source": [
    "images = []\n",
    "for filename in os.listdir('Assignment0images'):\n",
    "    image = cv2.imread(os.path.join('Assignment0images', filename))\n",
    "    if image is not None:\n",
    "        images.append(image)\n",
    "images = np.array(images)"
   ]
  },
  {
   "cell_type": "markdown",
   "metadata": {},
   "source": [
    "Check the shape of your input and think about it means:"
   ]
  },
  {
   "cell_type": "code",
   "execution_count": null,
   "metadata": {},
   "outputs": [],
   "source": []
  },
  {
   "cell_type": "markdown",
   "metadata": {},
   "source": [
    "Visualizing the features you feed into your algorithm is extremely useful in debugging. The quality of inputs can have a large impact on your outputs, thus preprocessing and checking your inputs can be important for increasing accuracy. We will cover preprocessing later. Display the images using matlibplot:"
   ]
  },
  {
   "cell_type": "code",
   "execution_count": null,
   "metadata": {},
   "outputs": [],
   "source": []
  },
  {
   "cell_type": "markdown",
   "metadata": {},
   "source": [
    "The colors seem off. It turns out that cv2 reads images as RBG. Convert RBG to RGB and display images to check:"
   ]
  },
  {
   "cell_type": "code",
   "execution_count": null,
   "metadata": {},
   "outputs": [],
   "source": []
  },
  {
   "cell_type": "markdown",
   "metadata": {},
   "source": [
    "Check the data type of your input:"
   ]
  },
  {
   "cell_type": "code",
   "execution_count": null,
   "metadata": {},
   "outputs": [],
   "source": []
  },
  {
   "cell_type": "markdown",
   "metadata": {},
   "source": [
    "Notice that cv2 downloads images as unit8 (8-bit unsigned integer), which is not exactly friendly for mathematical operations. Convert the data type of your input to float32:"
   ]
  },
  {
   "cell_type": "code",
   "execution_count": null,
   "metadata": {},
   "outputs": [],
   "source": []
  },
  {
   "cell_type": "markdown",
   "metadata": {},
   "source": [
    "### Outputs/labels"
   ]
  },
  {
   "cell_type": "markdown",
   "metadata": {},
   "source": [
    "Outputs of machine learning algorithms can also have different forms: numerical values, images, categories, strings, etc., and they may differ from the form of your input. Outputs, also called labels in classification problems, for the input images are provided below."
   ]
  },
  {
   "cell_type": "code",
   "execution_count": null,
   "metadata": {},
   "outputs": [],
   "source": [
    "labels = ['cat','cat','dog','horse','whale']"
   ]
  },
  {
   "cell_type": "markdown",
   "metadata": {},
   "source": [
    "The labels above are categorial variables, which can be rewritten in one-hot encoding which is easier and more efficient to feed into an algorithm. Rewrite the labels above with one-hot encoding:"
   ]
  },
  {
   "cell_type": "code",
   "execution_count": null,
   "metadata": {},
   "outputs": [],
   "source": []
  },
  {
   "cell_type": "markdown",
   "metadata": {},
   "source": [
    "### Shuffing"
   ]
  },
  {
   "cell_type": "markdown",
   "metadata": {},
   "source": [
    "Shuffling your dataset may be important for certain algorithms, particularly classification problems. Shuffling prevents the algorithm from memorizing the order of your inputs and thus prevent predictions due to the particular sequencing. Make sure that the correct outputs correspond to their inputs. Write code to shuffle your features and labels together."
   ]
  },
  {
   "cell_type": "code",
   "execution_count": null,
   "metadata": {},
   "outputs": [],
   "source": []
  },
  {
   "cell_type": "markdown",
   "metadata": {},
   "source": [
    "Display your shuffled images with their labels:"
   ]
  },
  {
   "cell_type": "code",
   "execution_count": null,
   "metadata": {},
   "outputs": [],
   "source": []
  },
  {
   "cell_type": "markdown",
   "metadata": {},
   "source": [
    "Notice that this produces an error. Try to figure out what's wrong and display again:"
   ]
  },
  {
   "cell_type": "code",
   "execution_count": null,
   "metadata": {},
   "outputs": [],
   "source": []
  },
  {
   "cell_type": "markdown",
   "metadata": {},
   "source": [
    "# Installing TensorFlow & Resources"
   ]
  },
  {
   "cell_type": "markdown",
   "metadata": {},
   "source": [
    "There are several machine learning frameworks available, with the most popular being Caffe, Tensorflow, and PyTorch. Each have their own pros and cons. The one that we will use is TensorFlow by Google. To get started, install TensorFlow by following the instructions here: https://www.tensorflow.org/install/"
   ]
  },
  {
   "cell_type": "markdown",
   "metadata": {},
   "source": [
    "Watch the series of videos by 3Blue1Brown on neural networks to gain a more fundamental understanding of gradient descent and backpropagation: https://www.youtube.com/playlist?list=PLZHQObOWTQDNU6R1_67000Dx_ZCJB-3pi"
   ]
  }
 ],
 "metadata": {
  "kernelspec": {
   "display_name": "Python 3",
   "language": "python",
   "name": "python3"
  },
  "language_info": {
   "codemirror_mode": {
    "name": "ipython",
    "version": 3
   },
   "file_extension": ".py",
   "mimetype": "text/x-python",
   "name": "python",
   "nbconvert_exporter": "python",
   "pygments_lexer": "ipython3",
   "version": "3.6.4"
  }
 },
 "nbformat": 4,
 "nbformat_minor": 2
}
